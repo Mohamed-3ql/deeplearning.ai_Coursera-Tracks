{
 "cells": [
  {
   "cell_type": "markdown",
   "metadata": {},
   "source": [
    "# Natural Language Procesing and Vector Space Model:\n",
    "* Learn to distinguish between pieces of text with positive and negative sentiments using logisitc regression and naive bayes classifiers.\n",
    "* representing words,queries and documents included other pieces of text as numbers in vectors.\n",
    "* build machine translation system.\n",
    "* locality sensitive hashing which is just method that will help you with efficient search."
   ]
  },
  {
   "cell_type": "code",
   "execution_count": null,
   "metadata": {},
   "outputs": [],
   "source": []
  }
 ],
 "metadata": {
  "kernelspec": {
   "display_name": "Python 3",
   "language": "python",
   "name": "python3"
  },
  "language_info": {
   "codemirror_mode": {
    "name": "ipython",
    "version": 3
   },
   "file_extension": ".py",
   "mimetype": "text/x-python",
   "name": "python",
   "nbconvert_exporter": "python",
   "pygments_lexer": "ipython3",
   "version": "3.8.5"
  }
 },
 "nbformat": 4,
 "nbformat_minor": 4
}
